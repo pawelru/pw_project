{
 "cells": [
  {
   "cell_type": "code",
   "execution_count": null,
   "metadata": {},
   "outputs": [],
   "source": [
    "import json\n",
    "\n",
    "from kafka import KafkaConsumer\n",
    "consumer = KafkaConsumer(bootstrap_servers='localhost:9092', value_deserializer=lambda m: json.loads(m.decode('utf-8')))\n",
    "consumer.subscribe(['posts-clean'])"
   ]
  },
  {
   "cell_type": "code",
   "execution_count": null,
   "metadata": {},
   "outputs": [],
   "source": [
    "from cassandra import ConsistencyLevel\n",
    "from cassandra.cluster import Cluster\n",
    "from cassandra.query import SimpleStatement"
   ]
  },
  {
   "cell_type": "code",
   "execution_count": null,
   "metadata": {},
   "outputs": [],
   "source": [
    "cluster = Cluster(['127.0.0.1'])\n",
    "session = cluster.connect()\n",
    "session.encoder.mapping[list] = session.encoder.cql_encode_list_collection"
   ]
  },
  {
   "cell_type": "code",
   "execution_count": null,
   "metadata": {},
   "outputs": [],
   "source": [
    "query = SimpleStatement(\"\"\"\n",
    "    INSERT INTO pw_project.posts (\n",
    "        id, \n",
    "        accepted_answer_id, \n",
    "        answer_count, \n",
    "        body,\n",
    "        comment_count, \n",
    "        creation_date, \n",
    "        favorite_count, \n",
    "        last_activity_date, \n",
    "        last_edit_date, \n",
    "        last_editor_user_id, \n",
    "        owner_user_id, \n",
    "        post_type_id, \n",
    "        score,\n",
    "        title,\n",
    "        tags, \n",
    "        view_count)\n",
    "    VALUES (\n",
    "        %(id)s, \n",
    "        %(accepted_answer_id)s, \n",
    "        %(answer_count)s, \n",
    "        %(body)s, \n",
    "        %(comment_count)s, \n",
    "        %(creation_date)s, \n",
    "        %(favorite_count)s, \n",
    "        %(last_activity_date)s, \n",
    "        %(last_edit_date)s, \n",
    "        %(last_editor_user_id)s, \n",
    "        %(owner_user_id)s, \n",
    "        %(post_type_id)s, \n",
    "        %(score)s, \n",
    "        %(title)s, \n",
    "        %(tags)s, \n",
    "        %(view_count)s)\n",
    "    \"\"\", consistency_level=ConsistencyLevel.ONE)"
   ]
  },
  {
   "cell_type": "code",
   "execution_count": null,
   "metadata": {
    "scrolled": true
   },
   "outputs": [],
   "source": [
    "for msg in consumer:\n",
    "    msg_clean = msg.value\n",
    "    print(msg_clean)\n",
    "    session.execute(query, msg_clean)"
   ]
  }
 ],
 "metadata": {
  "kernelspec": {
   "display_name": "Python 3",
   "language": "python",
   "name": "python3"
  },
  "language_info": {
   "codemirror_mode": {
    "name": "ipython",
    "version": 3
   },
   "file_extension": ".py",
   "mimetype": "text/x-python",
   "name": "python",
   "nbconvert_exporter": "python",
   "pygments_lexer": "ipython3",
   "version": "3.6.5"
  }
 },
 "nbformat": 4,
 "nbformat_minor": 2
}
