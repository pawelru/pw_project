{
 "cells": [
  {
   "cell_type": "code",
   "execution_count": null,
   "metadata": {},
   "outputs": [],
   "source": [
    "import numpy as np\n",
    "import pandas as pd\n",
    "import matplotlib.pyplot as plt\n",
    "from matplotlib.dates import DateFormatter\n",
    "import datetime"
   ]
  },
  {
   "cell_type": "code",
   "execution_count": null,
   "metadata": {},
   "outputs": [],
   "source": [
    "import os\n",
    "os.environ['PYSPARK_SUBMIT_ARGS'] = '--packages com.datastax.spark:spark-cassandra-connector_2.11:2.3.0 --conf spark.cassandra.connection.host=127.0.0.1 pyspark-shell'"
   ]
  },
  {
   "cell_type": "code",
   "execution_count": null,
   "metadata": {},
   "outputs": [],
   "source": [
    "from pyspark import SparkContext\n",
    "sc = SparkContext(\"local\", \"analysis\")"
   ]
  },
  {
   "cell_type": "code",
   "execution_count": null,
   "metadata": {},
   "outputs": [],
   "source": [
    "from pyspark.sql import SQLContext\n",
    "sqlContext = SQLContext(sc)"
   ]
  },
  {
   "cell_type": "code",
   "execution_count": null,
   "metadata": {},
   "outputs": [],
   "source": [
    "table_df = sqlContext.read\\\n",
    "    .format(\"org.apache.spark.sql.cassandra\")\\\n",
    "    .options(table='posts', keyspace='pw_project')\\\n",
    "    .load()"
   ]
  },
  {
   "cell_type": "code",
   "execution_count": null,
   "metadata": {},
   "outputs": [],
   "source": [
    "type(table_df)"
   ]
  },
  {
   "cell_type": "code",
   "execution_count": null,
   "metadata": {},
   "outputs": [],
   "source": [
    "table_df.dtypes"
   ]
  },
  {
   "cell_type": "code",
   "execution_count": null,
   "metadata": {
    "scrolled": true
   },
   "outputs": [],
   "source": [
    "table_df.show()"
   ]
  },
  {
   "cell_type": "code",
   "execution_count": null,
   "metadata": {},
   "outputs": [],
   "source": [
    "table_df.count()"
   ]
  },
  {
   "cell_type": "code",
   "execution_count": null,
   "metadata": {},
   "outputs": [],
   "source": [
    "def plot_histogram(var):\n",
    "    binSides, binCounts = table_df.select(var).rdd.flatMap(lambda x: x).histogram(10)\n",
    "    binSides = [round(x,2) for x in binSides]\n",
    "    print(list(zip(binSides, binCounts)))\n",
    "    N = len(binCounts)\n",
    "    index = np.arange(N)\n",
    "    width = 1\n",
    "    fig, ax = plt.subplots()\n",
    "    rects1 = ax.bar(index+0.5, binCounts, width, color='b')\n",
    "    ax.set_ylabel('Frequencies')\n",
    "    ax.set_title('Histogram')\n",
    "    ax.set_xticks(np.arange(N+1))\n",
    "    ax.set_xticklabels(binSides)\n",
    "    plt.show()\n",
    "\n",
    "def plot_var_per_date(var):\n",
    "    var_sum_per_date = table_df.select([\"creation_date\", var]).rdd\\\n",
    "        .map(lambda x: (datetime.date(x[0].year, x[0].month, 1), x[1]))\\\n",
    "        .reduceByKey(lambda a, b: a + b)\\\n",
    "        .sortBy(lambda x: x[0])\\\n",
    "        .collect()\n",
    "    print(var_sum_per_date)\n",
    "    x, y = zip(*var_sum_per_date)\n",
    "    fig, ax = plt.subplots()\n",
    "    ax.plot(x, y)\n",
    "    ax.xaxis.set_major_formatter(DateFormatter(\"%m/%y\"))\n",
    "    plt.show()\n",
    "\n",
    "def summarize_cont(var):\n",
    "    print(table_df.describe([var]).show())\n",
    "    print(table_df.where(table_df[var] > 0).describe([var]).show())\n",
    "    plot_histogram(var)\n",
    "    plot_var_per_date(var)\n",
    "\n",
    "def summarize_id(var):\n",
    "    print(table_df.where(table_df[var] > 0).count())"
   ]
  },
  {
   "cell_type": "code",
   "execution_count": null,
   "metadata": {},
   "outputs": [],
   "source": [
    "# accepted answer is\n",
    "summarize_id(\"accepted_answer_id\")\n",
    "print(table_df.where((table_df[\"accepted_answer_id\"] == -1) & (table_df[\"answer_count\"] > 0)).count())"
   ]
  },
  {
   "cell_type": "code",
   "execution_count": null,
   "metadata": {},
   "outputs": [],
   "source": [
    "# answer count statistics\n",
    "summarize_cont(\"answer_count\")"
   ]
  },
  {
   "cell_type": "code",
   "execution_count": null,
   "metadata": {},
   "outputs": [],
   "source": [
    "# comment count statistics\n",
    "summarize_cont(\"comment_count\")"
   ]
  },
  {
   "cell_type": "code",
   "execution_count": null,
   "metadata": {},
   "outputs": [],
   "source": [
    "# favorite count statistics\n",
    "summarize_cont(\"favorite_count\")"
   ]
  },
  {
   "cell_type": "code",
   "execution_count": null,
   "metadata": {},
   "outputs": [],
   "source": [
    "# score\n",
    "summarize_cont(\"score\")"
   ]
  },
  {
   "cell_type": "code",
   "execution_count": null,
   "metadata": {},
   "outputs": [],
   "source": [
    "# view count\n",
    "summarize_cont(\"view_count\")"
   ]
  },
  {
   "cell_type": "code",
   "execution_count": null,
   "metadata": {},
   "outputs": [],
   "source": []
  },
  {
   "cell_type": "code",
   "execution_count": null,
   "metadata": {},
   "outputs": [],
   "source": []
  },
  {
   "cell_type": "code",
   "execution_count": null,
   "metadata": {},
   "outputs": [],
   "source": []
  },
  {
   "cell_type": "code",
   "execution_count": null,
   "metadata": {},
   "outputs": [],
   "source": [
    "table_df.select('tags').show()"
   ]
  },
  {
   "cell_type": "code",
   "execution_count": null,
   "metadata": {
    "scrolled": true
   },
   "outputs": [],
   "source": [
    "# najpopularniejsze tagi\n",
    "# count\n",
    "count_per_tag = table_df.select('tags').rdd\\\n",
    "    .flatMap(lambda x: x)\\\n",
    "    .flatMap(lambda x: tuple(x))\\\n",
    "    .map(lambda word: (word, 1))\\\n",
    "    .reduceByKey(lambda a, b: a + b)\\\n",
    "    .takeOrdered(50, key=lambda x: -x[1])\n",
    "count_per_tag_list = list(zip(*count_per_tag))[0]\n",
    "count_per_tag"
   ]
  },
  {
   "cell_type": "code",
   "execution_count": null,
   "metadata": {},
   "outputs": [],
   "source": [
    "def plot_var_per_tag(df):\n",
    "    xlabels, values = zip(*df)\n",
    "    N = len(xlabels)\n",
    "    index = np.arange(N)\n",
    "    width = 1\n",
    "    fig, ax = plt.subplots()\n",
    "    rects1 = ax.bar(index+0.5, values, width, color='b')\n",
    "    ax.set_xticks(np.arange(N+1))\n",
    "    ax.set_xticklabels(\"\")\n",
    "    plt.show()\n",
    "\n",
    "plot_var_per_tag(count_per_tag)"
   ]
  },
  {
   "cell_type": "code",
   "execution_count": null,
   "metadata": {},
   "outputs": [],
   "source": [
    "def var_per_tag(var):\n",
    "    res = table_df.select([var, 'tags']).rdd\\\n",
    "        .flatMapValues(lambda x: x)\\\n",
    "        .map(lambda x: (x[1], x[0]))\\\n",
    "        .reduceByKey(lambda a, b: a + b)\\\n",
    "        .takeOrdered(50, key=lambda x: -x[1])\n",
    "    return res"
   ]
  },
  {
   "cell_type": "code",
   "execution_count": null,
   "metadata": {
    "scrolled": true
   },
   "outputs": [],
   "source": [
    "# najpopularniejsze tagi\n",
    "# sum of score\n",
    "score_per_tag = var_per_tag('score')\n",
    "score_per_tag_list = list(zip(*score_per_tag))[0]\n",
    "print(score_per_tag)\n",
    "plot_var_per_tag(score_per_tag)"
   ]
  },
  {
   "cell_type": "code",
   "execution_count": null,
   "metadata": {},
   "outputs": [],
   "source": [
    "# sum of views\n",
    "view_per_tag = var_per_tag('view_count')\n",
    "view_per_tag_list = list(zip(*view_per_tag))[0]\n",
    "print(view_per_tag)\n",
    "plot_var_per_tag(view_per_tag)"
   ]
  },
  {
   "cell_type": "code",
   "execution_count": null,
   "metadata": {},
   "outputs": [],
   "source": [
    "# sum of comments\n",
    "comment_per_tag = var_per_tag('comment_count')\n",
    "comment_per_tag_list = list(zip(*comment_per_tag))[0]\n",
    "print(comment_per_tag)\n",
    "plot_var_per_tag(comment_per_tag)"
   ]
  },
  {
   "cell_type": "code",
   "execution_count": null,
   "metadata": {},
   "outputs": [],
   "source": [
    "# sum of favorites\n",
    "favorite_per_tag = var_per_tag('favorite_count')\n",
    "favorite_per_tag_list = list(zip(*favorite_per_tag))[0]\n",
    "print(favorite_per_tag)\n",
    "plot_var_per_tag(favorite_per_tag)"
   ]
  },
  {
   "cell_type": "code",
   "execution_count": null,
   "metadata": {},
   "outputs": [],
   "source": []
  },
  {
   "cell_type": "code",
   "execution_count": null,
   "metadata": {
    "scrolled": true
   },
   "outputs": [],
   "source": [
    "# pupularność tagów w miesiącu (cumsum)\n",
    "# wśród najpopularniejszych tagów\n",
    "def cum_sum(input):\n",
    "    input_sorted = sorted(input, key=lambda x: x[0], reverse=False)\n",
    "    res_time = [i[0] for i in input_sorted]\n",
    "    res_cumsum = np.cumsum([i[1] for i in input_sorted]).tolist()\n",
    "    res = list(zip(res_time, res_cumsum))\n",
    "    return res\n",
    "\n",
    "count_per_tag_month = table_df.select(['creation_date', 'tags']).rdd\\\n",
    "    .flatMapValues(lambda x: x)\\\n",
    "    .filter(lambda x: x[1] in count_per_tag_list[0:9])\\\n",
    "    .map(lambda x: ((x[1], datetime.date(x[0].year, x[0].month, 1)), 1))\\\n",
    "    .reduceByKey(lambda a, b: a + b)\\\n",
    "    .map(lambda x: (x[0][0], (x[0][1], x[1])))\\\n",
    "    .groupByKey()\\\n",
    "    .flatMapValues(lambda x: cum_sum(x))\\\n",
    "    .map(lambda x: (x[0], x[1][0], x[1][1]))\\\n",
    "    .collect()\n",
    "\n",
    "count_per_tag_month"
   ]
  },
  {
   "cell_type": "code",
   "execution_count": null,
   "metadata": {
    "scrolled": true
   },
   "outputs": [],
   "source": [
    "def plot_var_per_tag_month(df, tag_list):\n",
    "    palette = plt.get_cmap('Set1')\n",
    "\n",
    "    fig = plt.figure(figsize=(15, 15))\n",
    "\n",
    "    num=0\n",
    "    for tag in tag_list:\n",
    "        num+=1\n",
    "\n",
    "        ax = fig.add_subplot(3, 3, num)\n",
    "\n",
    "        for v in [i for i in tag_list if i != tag]:\n",
    "            x = [i[1] for i in df if i[0]==v]\n",
    "            y = [i[2] for i in df if i[0]==v]\n",
    "            ax.plot(x, y, marker='', color='grey', linewidth=0.6, alpha=0.3)\n",
    "\n",
    "        x = [i[1] for i in df if i[0]==tag]\n",
    "        y = [i[2] for i in df if i[0]==tag]\n",
    "        ax.plot(x, y, marker='', color=palette(num), linewidth=2.4, alpha=0.9, label=tag)\n",
    "\n",
    "        if num in range(7) :\n",
    "            ax.tick_params(labelbottom='off')\n",
    "        if num not in [1,4,7] :\n",
    "            ax.tick_params(labelleft='off')\n",
    "\n",
    "        ax.xaxis.set_major_formatter(DateFormatter(\"%m/%y\"))\n",
    "\n",
    "        ax.set_title(tag, loc='left', fontsize=12, fontweight=0, color=palette(num))\n",
    "\n",
    "    plt.show()\n",
    "\n",
    "\n",
    "plot_var_per_tag_month(count_per_tag_month, count_per_tag_list[:9])"
   ]
  },
  {
   "cell_type": "code",
   "execution_count": null,
   "metadata": {
    "scrolled": true
   },
   "outputs": [],
   "source": [
    "def var_per_tag_month(var, tag_list):\n",
    "    res = table_df.select(['creation_date', var, 'tags']).rdd\\\n",
    "        .map(lambda x: ((x[0], x[1]), x[2]))\\\n",
    "        .flatMapValues(lambda x: x)\\\n",
    "        .filter(lambda x: x[1] in tag_list)\\\n",
    "        .map(lambda x: ((x[1], datetime.date(x[0][0].year, x[0][0].month, 1)), x[0][1]))\\\n",
    "        .reduceByKey(lambda a, b: a + b)\\\n",
    "        .map(lambda x: (x[0][0], (x[0][1], x[1])))\\\n",
    "        .groupByKey()\\\n",
    "        .flatMapValues(lambda x: cum_sum(x))\\\n",
    "        .map(lambda x: (x[0], x[1][0], x[1][1]))\\\n",
    "        .collect()\n",
    "    return res\n",
    "\n",
    "score_per_tag_month = var_per_tag_month('score', score_per_tag_list[:9])\n",
    "print(score_per_tag_month)\n",
    "plot_var_per_tag_month(score_per_tag_month, score_per_tag_list[:9])"
   ]
  },
  {
   "cell_type": "code",
   "execution_count": null,
   "metadata": {
    "scrolled": true
   },
   "outputs": [],
   "source": [
    "view_per_tag_month = var_per_tag_month('view_count', view_per_tag_list[:9])\n",
    "print(view_per_tag_month)\n",
    "plot_var_per_tag_month(view_per_tag_month, view_per_tag_list[:9])"
   ]
  },
  {
   "cell_type": "code",
   "execution_count": null,
   "metadata": {
    "scrolled": true
   },
   "outputs": [],
   "source": [
    "comment_per_tag_month = var_per_tag_month('comment_count', comment_per_tag_list[:9])\n",
    "print(comment_per_tag_month)\n",
    "plot_var_per_tag_month(comment_per_tag_month, comment_per_tag_list[:9])"
   ]
  },
  {
   "cell_type": "code",
   "execution_count": null,
   "metadata": {
    "scrolled": true
   },
   "outputs": [],
   "source": [
    "favorite_per_tag_month = var_per_tag_month('favorite_count', favorite_per_tag_list[:9])\n",
    "print(favorite_per_tag_month)\n",
    "plot_var_per_tag_month(favorite_per_tag_month, favorite_per_tag_list[:9])"
   ]
  }
 ],
 "metadata": {
  "kernelspec": {
   "display_name": "Python 3",
   "language": "python",
   "name": "python3"
  },
  "language_info": {
   "codemirror_mode": {
    "name": "ipython",
    "version": 3
   },
   "file_extension": ".py",
   "mimetype": "text/x-python",
   "name": "python",
   "nbconvert_exporter": "python",
   "pygments_lexer": "ipython3",
   "version": "3.6.5"
  }
 },
 "nbformat": 4,
 "nbformat_minor": 2
}
