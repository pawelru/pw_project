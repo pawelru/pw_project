{
 "cells": [
  {
   "cell_type": "code",
   "execution_count": null,
   "metadata": {},
   "outputs": [],
   "source": [
    "import glob\n",
    "import re\n",
    "import pandas as pd\n",
    "import matplotlib.pyplot as plt\n",
    "import datetime\n",
    "from functools import reduce"
   ]
  },
  {
   "cell_type": "code",
   "execution_count": null,
   "metadata": {},
   "outputs": [],
   "source": [
    "consumer = dict()\n",
    "\n",
    "for file in glob.glob(\"./logs/consumer_producer_*.txt\"):\n",
    "    x = pd.read_csv(file, sep=\" \", names=['type', 'time', 'r_count', 's_count', 'id'])\n",
    "    x.time = pd.to_datetime(x.time, format=\"%H:%M:%S:%f\")\n",
    "    x.r_count = pd.to_numeric(x.r_count.str.replace(\"R=\", \"\"))\n",
    "    x.s_count = pd.to_numeric(x.s_count.str.replace(\"S=\", \"\"))\n",
    "    x.id = pd.to_numeric(x.id.str.replace(\"id=\", \"\"), errors='coerce')\n",
    "    file = file.replace('./logs/', '').replace('.txt', '')\n",
    "    consumer.update({file: x})"
   ]
  },
  {
   "cell_type": "code",
   "execution_count": null,
   "metadata": {},
   "outputs": [],
   "source": [
    "list(consumer.keys())"
   ]
  },
  {
   "cell_type": "code",
   "execution_count": null,
   "metadata": {},
   "outputs": [],
   "source": [
    "consumer_counts = [(key, int(value.r_count.tail(1)), int(value.s_count.tail(1))) for key, value in consumer.items()]\n",
    "consumer_counts = pd.DataFrame(consumer_counts, columns=['name', 'R', 'S'])\n",
    "consumer_counts['ratio'] = consumer_counts.S / consumer_counts.R\n",
    "consumer_counts"
   ]
  },
  {
   "cell_type": "code",
   "execution_count": null,
   "metadata": {},
   "outputs": [],
   "source": [
    "consumer_counts.describe()"
   ]
  },
  {
   "cell_type": "code",
   "execution_count": null,
   "metadata": {},
   "outputs": [],
   "source": [
    "consumer_counts.set_index('name').R.plot(kind='bar')"
   ]
  },
  {
   "cell_type": "code",
   "execution_count": null,
   "metadata": {},
   "outputs": [],
   "source": [
    "def get_usage(dict_data):\n",
    "    dict_data = consumer\n",
    "    usage = {key: value.query(\"type=='R'\").set_index('time').r_count.resample(\"1s\").count() for key, value in dict_data.items()}\n",
    "    min_time = min([value.head(1).index[0] for value in usage.values()])\n",
    "    max_time = max([value.tail(1).index[0] for value in usage.values()])\n",
    "    usage_pre = {key: pd.Series(0, pd.date_range(start=min_time, end=value.head(1).index[0] - datetime.timedelta(seconds=1), freq=\"1s\")) if value.head(1).index[0] > min_time else None for key, value in usage.items()}\n",
    "    usage_post = {key: pd.Series(0, pd.date_range(start=value.tail(1).index[0] + datetime.timedelta(seconds=1), end=max_time, freq=\"1s\")) if value.tail(1).index[0] < max_time else None for key, value in usage.items()}\n",
    "    usage = {key: pd.concat([usage_pre[key], value, usage_post[key]]) for key, value in usage.items()}\n",
    "    return(usage)\n"
   ]
  },
  {
   "cell_type": "code",
   "execution_count": null,
   "metadata": {},
   "outputs": [],
   "source": [
    "consumer_usage = get_usage(consumer)\n",
    "consumer_usage"
   ]
  },
  {
   "cell_type": "code",
   "execution_count": null,
   "metadata": {},
   "outputs": [],
   "source": [
    "consumer_usage['consumer_producer_8'].plot()"
   ]
  },
  {
   "cell_type": "code",
   "execution_count": null,
   "metadata": {},
   "outputs": [],
   "source": [
    "palette = plt.get_cmap('Set1')\n",
    "\n",
    "i = 1\n",
    "for key, value in consumer_usage.items():\n",
    "    plt.plot(value.rolling(60).mean(), marker='', color=palette(i), linewidth=1, alpha=0.9, label=key)\n",
    "    i+=1"
   ]
  },
  {
   "cell_type": "code",
   "execution_count": null,
   "metadata": {},
   "outputs": [],
   "source": [
    "{key: ((value>0)*1).mean() for key, value in consumer_usage.items()}"
   ]
  },
  {
   "cell_type": "code",
   "execution_count": null,
   "metadata": {
    "scrolled": true
   },
   "outputs": [],
   "source": [
    "sum(consumer_usage.values()).plot()"
   ]
  },
  {
   "cell_type": "code",
   "execution_count": null,
   "metadata": {},
   "outputs": [],
   "source": [
    "sum(consumer_usage.values()).rolling(10).mean().plot()"
   ]
  },
  {
   "cell_type": "code",
   "execution_count": null,
   "metadata": {},
   "outputs": [],
   "source": [
    "reduce(lambda x, value:x + (value>0)*1, consumer_usage.values(), 0).plot()"
   ]
  },
  {
   "cell_type": "code",
   "execution_count": null,
   "metadata": {},
   "outputs": [],
   "source": [
    "reduce(lambda x, value:x + (value>0)*1, consumer_usage.values(), 0).rolling(30).mean().plot()"
   ]
  }
 ],
 "metadata": {
  "kernelspec": {
   "display_name": "Python 3",
   "language": "python",
   "name": "python3"
  },
  "language_info": {
   "codemirror_mode": {
    "name": "ipython",
    "version": 3
   },
   "file_extension": ".py",
   "mimetype": "text/x-python",
   "name": "python",
   "nbconvert_exporter": "python",
   "pygments_lexer": "ipython3",
   "version": "3.6.5"
  }
 },
 "nbformat": 4,
 "nbformat_minor": 2
}
