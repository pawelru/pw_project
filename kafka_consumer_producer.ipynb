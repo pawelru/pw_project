{
 "cells": [
  {
   "cell_type": "code",
   "execution_count": null,
   "metadata": {},
   "outputs": [],
   "source": [
    "import json\n",
    "import datetime\n",
    "import xml.etree.ElementTree\n",
    "\n",
    "from kafka import KafkaConsumer\n",
    "consumer = KafkaConsumer(bootstrap_servers='localhost:9092', value_deserializer=lambda m: json.loads(m.decode('utf-8')))\n",
    "consumer.subscribe(['posts-all'])\n",
    "\n",
    "from kafka import KafkaProducer\n",
    "producer = KafkaProducer(bootstrap_servers='localhost:9092', value_serializer=lambda v: json.dumps(v).encode('utf-8'))"
   ]
  },
  {
   "cell_type": "code",
   "execution_count": null,
   "metadata": {},
   "outputs": [],
   "source": [
    "import re\n",
    "def convert(name):\n",
    "    s1 = re.sub('(.)([A-Z][a-z]+)', r'\\1_\\2', name)\n",
    "    return re.sub('([a-z0-9])([A-Z])', r'\\1_\\2', s1).lower()\n",
    "\n",
    "def check(d, name, value):\n",
    "    if name not in d:\n",
    "        d[name] = value\n",
    "\n",
    "def foo(input):\n",
    "    temp = dict(xml.etree.ElementTree.fromstring(input).items())\n",
    "    if temp['PostTypeId'] != '1':\n",
    "        return None\n",
    "    temp['Tags'] = temp['Tags'].replace('><', '_#_').replace('<', '').replace('>', '').split('_#_')\n",
    "    result = {}\n",
    "    for key, value in temp.items():\n",
    "        if not isinstance(value, (list,)):\n",
    "            try:\n",
    "                value = int(value)\n",
    "            except ValueError:\n",
    "                pass\n",
    "        result[convert(key)] = value\n",
    "    check(result, 'id', -1)\n",
    "    check(result, 'accepted_answer_id', -1)\n",
    "    check(result, 'answer_count', 0)\n",
    "    check(result, 'body', \"\")\n",
    "    check(result, 'comment_count', 0)\n",
    "    check(result, 'creation_date', \"\")\n",
    "    check(result, 'favorite_count', 0)\n",
    "    check(result, 'last_activity_date', \"\")\n",
    "    check(result, 'last_edit_date', \"\")\n",
    "    check(result, 'last_editor_user_id', -1)\n",
    "    check(result, 'owner_user_id', -1)\n",
    "    check(result, 'post_type_id', -1)\n",
    "    check(result, 'score', 0)\n",
    "    check(result, 'tags', \"\")\n",
    "    check(result, 'title', \"\")\n",
    "    check(result, 'view_count', 0)\n",
    "    return result"
   ]
  },
  {
   "cell_type": "code",
   "execution_count": null,
   "metadata": {
    "scrolled": true
   },
   "outputs": [],
   "source": [
    "count_received = 0\n",
    "count_sent = 0\n",
    "for msg in consumer:\n",
    "    msg_clean = msg.value\n",
    "    count_received = count_received + 1\n",
    "    print('R ' + datetime.datetime.now().strftime(\"%H:%M:%S:%f\") + \n",
    "          ' R=' + '{:04d}'.format(count_received) + \n",
    "          ' S=' + '{:04d}'.format(count_sent))\n",
    "    msg_dict = foo(msg_clean)\n",
    "    if msg_dict is not None:\n",
    "        producer.send('posts-clean', msg_dict)\n",
    "        count_sent = count_sent + 1\n",
    "        print('S ' + datetime.datetime.now().strftime(\"%H:%M:%S:%f\") + \n",
    "          ' R=' + '{:04d}'.format(count_received) + \n",
    "          ' S=' + '{:04d}'.format(count_sent))\n",
    "    "
   ]
  }
 ],
 "metadata": {
  "kernelspec": {
   "display_name": "Python 3",
   "language": "python",
   "name": "python3"
  },
  "language_info": {
   "codemirror_mode": {
    "name": "ipython",
    "version": 3
   },
   "file_extension": ".py",
   "mimetype": "text/x-python",
   "name": "python",
   "nbconvert_exporter": "python",
   "pygments_lexer": "ipython3",
   "version": "3.6.5"
  }
 },
 "nbformat": 4,
 "nbformat_minor": 2
}
