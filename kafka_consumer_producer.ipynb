{
 "cells": [
  {
   "cell_type": "code",
   "execution_count": null,
   "metadata": {},
   "outputs": [],
   "source": [
    "consumer.close()"
   ]
  },
  {
   "cell_type": "code",
   "execution_count": null,
   "metadata": {},
   "outputs": [],
   "source": [
    "import datetime\n",
    "import xml.etree.ElementTree\n",
    "from bs4 import BeautifulSoup\n",
    "import re\n",
    "\n",
    "def convert(name):\n",
    "    s1 = re.sub('(.)([A-Z][a-z]+)', r'\\1_\\2', name)\n",
    "    return re.sub('([a-z0-9])([A-Z])', r'\\1_\\2', s1).lower()\n",
    "\n",
    "def check(d, name, value):\n",
    "    if name not in d:\n",
    "        d[name] = value\n",
    "\n",
    "def correct(input):\n",
    "    try:\n",
    "        temp = dict(xml.etree.ElementTree.fromstring(input).items())\n",
    "    except:\n",
    "        return None\n",
    "    \n",
    "    if temp.get('PostTypeId') != '1':\n",
    "        return None\n",
    "    \n",
    "    temp['Tags'] = temp['Tags'].replace('><', '_#_').replace('<', '').replace('>', '').split('_#_')\n",
    "    \n",
    "    body_clear = BeautifulSoup(temp['Body'])\n",
    "    while body_clear.code is not None:\n",
    "        body_clear.code.decompose()\n",
    "    temp['Body'] = body_clear.getText().replace('\\n', ' ')\n",
    "    \n",
    "    result = {}\n",
    "    for key, value in temp.items():\n",
    "        if not isinstance(value, (list,)):\n",
    "            try:\n",
    "                value = int(value)\n",
    "            except ValueError:\n",
    "                pass\n",
    "        result[convert(key)] = value\n",
    "    \n",
    "    check(result, 'id', -1)\n",
    "    check(result, 'accepted_answer_id', -1)\n",
    "    check(result, 'answer_count', 0)\n",
    "    check(result, 'body', \"\")\n",
    "    check(result, 'comment_count', 0)\n",
    "    check(result, 'creation_date', \"\")\n",
    "    check(result, 'favorite_count', 0)\n",
    "    check(result, 'last_activity_date', \"\")\n",
    "    check(result, 'last_edit_date', \"\")\n",
    "    check(result, 'last_editor_user_id', -1)\n",
    "    check(result, 'owner_user_id', -1)\n",
    "    check(result, 'post_type_id', -1)\n",
    "    check(result, 'score', 0)\n",
    "    check(result, 'tags', \"\")\n",
    "    check(result, 'title', \"\")\n",
    "    check(result, 'view_count', 0)\n",
    "    return result"
   ]
  },
  {
   "cell_type": "code",
   "execution_count": null,
   "metadata": {},
   "outputs": [],
   "source": [
    "import json\n",
    "\n",
    "from kafka import KafkaConsumer\n",
    "consumer = KafkaConsumer(\n",
    "    bootstrap_servers='localhost:9092', \n",
    "    group_id='test',\n",
    "    auto_offset_reset='earliest',\n",
    "    value_deserializer=lambda m: json.loads(m.decode('utf-8')))\n",
    "#consumer.subscribe(['posts_all'])\n",
    "\n",
    "from kafka import TopicPartition\n",
    "topicpartitions = [TopicPartition('posts_all', partitionId) for partitionId in set(range(3))]\n",
    "consumer.assign(topicpartitions)\n",
    "\n",
    "from kafka import KafkaProducer\n",
    "producer = KafkaProducer(\n",
    "    bootstrap_servers='localhost:9092', \n",
    "    value_serializer=lambda v: json.dumps(v).encode('utf-8'))"
   ]
  },
  {
   "cell_type": "code",
   "execution_count": null,
   "metadata": {
    "scrolled": true
   },
   "outputs": [],
   "source": [
    "count_received = 0\n",
    "count_sent = 0\n",
    "for msg in consumer:\n",
    "    msg_clean = msg.value\n",
    "    count_received = count_received + 1\n",
    "    id_ = re.sub('\".*', '', re.sub('.*?=\"', '', msg_clean, 1)).replace('\\n', '')\n",
    "    print('R ' + datetime.datetime.now().strftime(\"%H:%M:%S:%f\") + \n",
    "          ' R=' + '{:04d}'.format(count_received) + \n",
    "          ' S=' + '{:04d}'.format(count_sent) +\n",
    "          ' id=' + id_)\n",
    "    #msg_dict = correct(msg_clean)\n",
    "    #if msg_dict is not None:\n",
    "    #    producer.send('posts_clean', msg_dict)\n",
    "    #    count_sent = count_sent + 1\n",
    "    #    print('S ' + datetime.datetime.now().strftime(\"%H:%M:%S:%f\") + \n",
    "    #      ' R=' + '{:04d}'.format(count_received) + \n",
    "    #      ' S=' + '{:04d}'.format(count_sent) +\n",
    "    #      ' id=' + id_)"
   ]
  }
 ],
 "metadata": {
  "kernelspec": {
   "display_name": "Python 3",
   "language": "python",
   "name": "python3"
  },
  "language_info": {
   "codemirror_mode": {
    "name": "ipython",
    "version": 3
   },
   "file_extension": ".py",
   "mimetype": "text/x-python",
   "name": "python",
   "nbconvert_exporter": "python",
   "pygments_lexer": "ipython3",
   "version": "3.6.5"
  }
 },
 "nbformat": 4,
 "nbformat_minor": 2
}
